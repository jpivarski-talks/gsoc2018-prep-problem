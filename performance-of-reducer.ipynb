{
 "cells": [
  {
   "cell_type": "code",
   "execution_count": 1,
   "metadata": {},
   "outputs": [],
   "source": [
    "import numpy\n",
    "\n",
    "import pycuda\n",
    "import pycuda.autoinit\n",
    "import pycuda.compiler\n",
    "import pycuda.driver\n",
    "import pycuda.gpuarray"
   ]
  },
  {
   "cell_type": "code",
   "execution_count": 50,
   "metadata": {},
   "outputs": [],
   "source": [
    "module = pycuda.compiler.SourceModule(\"\"\"\n",
    "__global__ void reduce_a(int length, int* parents, float* mutablescan) {\n",
    "    unsigned int i = threadIdx.x + blockIdx.x*blockDim.x;\n",
    "    if (i < length) {\n",
    "        for (int d = 1;  d < length;  d *= 2) {\n",
    "            if (i >= d  &&  parents[i] == parents[i - d]) {\n",
    "                mutablescan[i] = mutablescan[i] + mutablescan[i - d];\n",
    "            }\n",
    "            __syncthreads();\n",
    "        }\n",
    "    }\n",
    "}\n",
    "\n",
    "__global__ void reduce_b(int length, int* starts, int* stops, float* scan, float* output) {\n",
    "    unsigned int i = threadIdx.x + blockIdx.x*blockDim.x;\n",
    "    if (i < length) {\n",
    "        if (starts[i] == stops[i]) {\n",
    "            output[i] = 0.0;\n",
    "        }\n",
    "        else {\n",
    "            output[i] = scan[stops[i] - 1];\n",
    "        }\n",
    "    }\n",
    "}\n",
    "\"\"\")\n",
    "\n",
    "reduce_a = module.get_function(\"reduce_a\")\n",
    "reduce_b = module.get_function(\"reduce_b\")"
   ]
  },
  {
   "cell_type": "code",
   "execution_count": 51,
   "metadata": {},
   "outputs": [],
   "source": [
    "# counts to offsets\n",
    "counts = numpy.random.poisson(5, 2000)\n",
    "offsets = numpy.empty(len(counts) + 1, dtype=numpy.int32)\n",
    "offsets[0] = 0\n",
    "numpy.cumsum(counts, out=offsets[1:])\n",
    "\n",
    "# content\n",
    "content = numpy.random.normal(1, 0.00001, offsets[-1]).astype(numpy.float32)\n",
    "\n",
    "# parents\n",
    "parents = numpy.zeros(len(content), dtype=numpy.int32)\n",
    "numpy.add.at(parents, offsets[offsets != offsets[-1]][1:], 1)\n",
    "numpy.cumsum(parents, out=parents)\n",
    "\n",
    "# mutable contents on GPU\n",
    "scan = pycuda.gpuarray.to_gpu(content)"
   ]
  },
  {
   "cell_type": "code",
   "execution_count": 52,
   "metadata": {},
   "outputs": [],
   "source": [
    "# run!\n",
    "reduce_a(numpy.int32(len(parents)), pycuda.driver.In(parents), scan,\n",
    "         block=(1024, 1, 1), grid=(len(content) // 1024 + 1, 1))"
   ]
  },
  {
   "cell_type": "code",
   "execution_count": null,
   "metadata": {},
   "outputs": [],
   "source": []
  }
 ],
 "metadata": {
  "kernelspec": {
   "display_name": "Python 3",
   "language": "python",
   "name": "python3"
  },
  "language_info": {
   "codemirror_mode": {
    "name": "ipython",
    "version": 3
   },
   "file_extension": ".py",
   "mimetype": "text/x-python",
   "name": "python",
   "nbconvert_exporter": "python",
   "pygments_lexer": "ipython3",
   "version": "3.6.5"
  }
 },
 "nbformat": 4,
 "nbformat_minor": 2
}

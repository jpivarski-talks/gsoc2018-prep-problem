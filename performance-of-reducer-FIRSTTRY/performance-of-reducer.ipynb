{
 "cells": [
  {
   "cell_type": "code",
   "execution_count": 16,
   "metadata": {},
   "outputs": [],
   "source": [
    "import numpy\n",
    "import time\n",
    "\n",
    "import pycuda\n",
    "import pycuda.autoinit\n",
    "import pycuda.compiler\n",
    "import pycuda.gpuarray\n",
    "\n",
    "from pycuda.driver import In, Out, InOut"
   ]
  },
  {
   "cell_type": "code",
   "execution_count": 77,
   "metadata": {},
   "outputs": [],
   "source": [
    "module = pycuda.compiler.SourceModule(\"\"\"\n",
    "__global__ void reduce_a(int lenparents, int d, int* parents, float* mutablescan) {\n",
    "    unsigned int i = threadIdx.x + blockIdx.x*blockDim.x;\n",
    "    if (i < lenparents  &&  i >= d  &&  parents[i] == parents[i - d]) {\n",
    "        mutablescan[i] = mutablescan[i] + mutablescan[i - d];\n",
    "    }\n",
    "    __syncthreads();\n",
    "}\n",
    "\n",
    "__global__ void reduce_b(int lenstarts, int* starts, int* stops, float* scan, float* output) {\n",
    "    unsigned int i = threadIdx.x + blockIdx.x*blockDim.x;\n",
    "    if (i < lenstarts) {\n",
    "        if (starts[i] == stops[i]) {\n",
    "            output[i] = 0.0;\n",
    "        }\n",
    "        else {\n",
    "            output[i] = scan[stops[i] - 1];\n",
    "        }\n",
    "    }\n",
    "}\n",
    "\"\"\")\n",
    "\n",
    "reduce_a = module.get_function(\"reduce_a\")\n",
    "reduce_b = module.get_function(\"reduce_b\")"
   ]
  },
  {
   "cell_type": "code",
   "execution_count": 78,
   "metadata": {},
   "outputs": [
    {
     "data": {
      "text/plain": [
       "1.4701042175292969"
      ]
     },
     "execution_count": 78,
     "metadata": {},
     "output_type": "execute_result"
    }
   ],
   "source": [
    "tasksize = 100000000\n",
    "averagesize = 5\n",
    "\n",
    "# counts to offsets to starts/stops\n",
    "counts = numpy.random.poisson(averagesize, tasksize // averagesize)\n",
    "offsets = numpy.empty(len(counts) + 1, dtype=numpy.int32)\n",
    "offsets[0] = 0\n",
    "numpy.cumsum(counts, out=offsets[1:])\n",
    "starts, stops = offsets[:-1], offsets[1:]\n",
    "\n",
    "# content\n",
    "content = numpy.random.normal(1, 0.00001, offsets[-1]).astype(numpy.float32)\n",
    "\n",
    "# parents\n",
    "parents = numpy.zeros(len(content), dtype=numpy.int32)\n",
    "numpy.add.at(parents, offsets[offsets != offsets[-1]][1:], 1)\n",
    "numpy.cumsum(parents, out=parents)\n",
    "\n",
    "# mutable contents on GPU\n",
    "scan = pycuda.gpuarray.to_gpu(content)\n",
    "\n",
    "# flat array output\n",
    "output = numpy.empty(len(starts), dtype=numpy.float32)\n",
    "\n",
    "# run!\n",
    "starttime = time.time()\n",
    "\n",
    "d = 1\n",
    "c = 0\n",
    "while d < len(parents):\n",
    "    reduce_a(numpy.int32(len(parents)), numpy.int32(d), In(parents), scan,\n",
    "             block=(1024, 1, 1), grid=(len(content) // 1024 + 1, 1))\n",
    "    d *= 2\n",
    "    c += 1\n",
    "\n",
    "reduce_b(numpy.int32(len(starts)), In(starts), In(stops), scan, Out(output),\n",
    "         block=(1024, 1, 1), grid=(len(starts) // 1024 + 1, 1))\n",
    "\n",
    "stoptime = time.time()\n",
    "\n",
    "stoptime - starttime"
   ]
  },
  {
   "cell_type": "code",
   "execution_count": null,
   "metadata": {},
   "outputs": [],
   "source": []
  }
 ],
 "metadata": {
  "kernelspec": {
   "display_name": "Python 3",
   "language": "python",
   "name": "python3"
  },
  "language_info": {
   "codemirror_mode": {
    "name": "ipython",
    "version": 3
   },
   "file_extension": ".py",
   "mimetype": "text/x-python",
   "name": "python",
   "nbconvert_exporter": "python",
   "pygments_lexer": "ipython3",
   "version": "3.6.5"
  }
 },
 "nbformat": 4,
 "nbformat_minor": 2
}
